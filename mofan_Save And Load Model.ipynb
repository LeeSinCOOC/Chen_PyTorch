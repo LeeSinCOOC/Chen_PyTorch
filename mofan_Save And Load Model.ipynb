{
 "cells": [
  {
   "cell_type": "code",
   "execution_count": 3,
   "metadata": {},
   "outputs": [],
   "source": [
    "import torch\n",
    "from torch.autograd import Variable"
   ]
  },
  {
   "cell_type": "code",
   "execution_count": 5,
   "metadata": {},
   "outputs": [],
   "source": [
    "torch.manual_seed(42)\n",
    "\n",
    "x = torch.unsqueeze(torch.linspace(-1,1,100),dim=1)\n",
    "y = x.pow(2)\n",
    "x,y = Variable(x,requires_grad=False),Variable(y,requires_grad=False)"
   ]
  },
  {
   "cell_type": "code",
   "execution_count": null,
   "metadata": {},
   "outputs": [],
   "source": [
    "net1 = torch.nn.Sequential(\n",
    "    torch.nn.Linear(1,10),\n",
    "    torch.nn.ReLU(),\n",
    "    torch.nn.Linear(10,1)\n",
    ")\n",
    "optimizer = torch.optim.SGD(net1.paramters(),lr=0.5)\n",
    "loss_func = torch.nn.MSELoss()\n",
    "     \n",
    "for t in range(100):\n",
    "    prediction = net1(x)\n",
    "    loss = loss_func(prediction,y)\n",
    "    optimizer.zero_grad()\n",
    "    loss.backward()\n",
    "    optimizer.step() \n",
    "        \n",
    "torch.save(net1,'net.pkl')\n",
    "torch.save(net1.state_dict(),'net_params.pkl')"
   ]
  },
  {
   "cell_type": "code",
   "execution_count": null,
   "metadata": {},
   "outputs": [],
   "source": [
    "def restore_net():\n",
    "    # restore entire net1 to net2\n",
    "    net2 = torch.load('net.pkl')\n",
    "    prediction = net2(x)"
   ]
  },
  {
   "cell_type": "code",
   "execution_count": null,
   "metadata": {},
   "outputs": [],
   "source": [
    "def restore_params():\n",
    "    # 新建 net3\n",
    "    net3 = torch.nn.Sequential(\n",
    "        torch.nn.Linear(1, 10),\n",
    "        torch.nn.ReLU(),\n",
    "        torch.nn.Linear(10, 1)\n",
    "    )\n",
    " \n",
    "    # 将保存的参数复制到 net3\n",
    "    net3.load_state_dict(torch.load('net_params.pkl'))\n",
    "    prediction = net3(x)"
   ]
  }
 ],
 "metadata": {
  "kernelspec": {
   "display_name": "Python 3",
   "language": "python",
   "name": "python3"
  },
  "language_info": {
   "codemirror_mode": {
    "name": "ipython",
    "version": 3
   },
   "file_extension": ".py",
   "mimetype": "text/x-python",
   "name": "python",
   "nbconvert_exporter": "python",
   "pygments_lexer": "ipython3",
   "version": "3.6.8"
  }
 },
 "nbformat": 4,
 "nbformat_minor": 2
}

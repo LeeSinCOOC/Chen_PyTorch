{
 "cells": [
  {
   "cell_type": "code",
   "execution_count": 1,
   "metadata": {},
   "outputs": [],
   "source": [
    "import torch\n",
    "from torch import nn\n",
    "from torch.autograd import Variable\n",
    "import numpy as np\n",
    "import matplotlib.pyplot as plt\n",
    " \n",
    "torch.manual_seed(1)    # reproducible\n",
    " \n",
    "# Hyper Parameters\n",
    "TIME_STEP = 10      # rnn time step / image height\n",
    "INPUT_SIZE = 1      # rnn input size / image width\n",
    "LR = 0.02           # learning rate\n",
    "DOWNLOAD_MNIST = False  # set to True if haven\\'t download the data"
   ]
  },
  {
   "cell_type": "code",
   "execution_count": 2,
   "metadata": {},
   "outputs": [
    {
     "name": "stdout",
     "output_type": "stream",
     "text": [
      "RNN(\n",
      "  (rnn): RNN(1, 32, batch_first=True)\n",
      "  (out): Linear(in_features=32, out_features=1, bias=True)\n",
      ")\n"
     ]
    }
   ],
   "source": [
    "class RNN(nn.Module):\n",
    "    def __init__(self):\n",
    "        super(RNN, self).__init__()\n",
    " \n",
    "        self.rnn = nn.RNN(  # 这回一个普通的 RNN 就能胜任\n",
    "            input_size=1,\n",
    "            hidden_size=32,     # rnn hidden unit\n",
    "            num_layers=1,       # 有几层 RNN layers\n",
    "            batch_first=True,   # input & output 会是以 batch size 为第一维度的特征集 e.g. (batch, time_step, input_size)\n",
    "        )\n",
    "        self.out = nn.Linear(32, 1)\n",
    " \n",
    "    def forward(self, x, h_state):  # 因为 hidden state 是连续的, 所以我们要一直传递这一个 state\n",
    "        # x (batch, time_step, input_size)\n",
    "        # h_state (n_layers, batch, hidden_size)\n",
    "        # r_out (batch, time_step, output_size)\n",
    "        r_out, h_state = self.rnn(x, h_state)   # h_state 也要作为 RNN 的一个输入\n",
    " \n",
    "        outs = []    # 保存所有时间点的预测值\n",
    "        for time_step in range(r_out.size(1)):    # 对每一个时间点计算 output\n",
    "            outs.append(self.out(r_out[:, time_step, :]))\n",
    "        return torch.stack(outs, dim=1), h_state\n",
    " \n",
    " \n",
    "rnn = RNN()\n",
    "print(rnn)"
   ]
  },
  {
   "cell_type": "code",
   "execution_count": 3,
   "metadata": {},
   "outputs": [],
   "source": [
    "def forward(self, x, h_state):\n",
    "    r_out, h_state = self.rnn(x, h_state)\n",
    "    r_out_reshaped = r_out.view(-1, HIDDEN_SIZE) # to 2D data\n",
    "    outs = self.linear_layer(r_out_reshaped)\n",
    "    outs = outs.view(-1, TIME_STEP, INPUT_SIZE)  # to 3D data"
   ]
  },
  {
   "cell_type": "code",
   "execution_count": 4,
   "metadata": {
    "collapsed": true
   },
   "outputs": [
    {
     "ename": "SyntaxError",
     "evalue": "invalid syntax (<ipython-input-4-c499d97ef948>, line 7)",
     "output_type": "error",
     "traceback": [
      "\u001b[0;36m  File \u001b[0;32m\"<ipython-input-4-c499d97ef948>\"\u001b[0;36m, line \u001b[0;32m7\u001b[0m\n\u001b[0;31m    start, end = step * np.pi, (step 1)*np.pi   # time steps\u001b[0m\n\u001b[0m                                     ^\u001b[0m\n\u001b[0;31mSyntaxError\u001b[0m\u001b[0;31m:\u001b[0m invalid syntax\n"
     ]
    }
   ],
   "source": [
    "optimizer = torch.optim.Adam(rnn.parameters(), lr=LR)   # optimize all rnn parameters\n",
    "loss_func = nn.MSELoss()\n",
    " \n",
    "h_state = None   # 要使用初始 hidden state, 可以设成 None\n",
    " \n",
    "for step in range(60):\n",
    "    start, end = step * np.pi, (step 1)*np.pi   # time steps\n",
    "    # sin 预测 cos\n",
    "    steps = np.linspace(start, end, 10, dtype=np.float32)\n",
    "    x_np = np.sin(steps)    # float32 for converting torch FloatTensor\n",
    "    y_np = np.cos(steps)\n",
    " \n",
    "    x = Variable(torch.from_numpy(x_np[np.newaxis, :, np.newaxis]))    # shape (batch, time_step, input_size)\n",
    "    y = Variable(torch.from_numpy(y_np[np.newaxis, :, np.newaxis]))\n",
    " \n",
    "    prediction, h_state = rnn(x, h_state)   # rnn 对于每个 step 的 prediction, 还有最后一个 step 的 h_state\n",
    "    # !!  下一步十分重要 !!\n",
    "    h_state = Variable(h_state.data)  # 要把 h_state 重新包装一下才能放入下一个 iteration, 不然会报错\n",
    " \n",
    "    loss = loss_func(prediction, y)     # cross entropy loss\n",
    "    optimizer.zero_grad()               # clear gradients for this training step\n",
    "    loss.backward()                     # backpropagation, compute gradients\n",
    "    optimizer.step()                    # apply gradients"
   ]
  }
 ],
 "metadata": {
  "kernelspec": {
   "display_name": "Python 3",
   "language": "python",
   "name": "python3"
  },
  "language_info": {
   "codemirror_mode": {
    "name": "ipython",
    "version": 3
   },
   "file_extension": ".py",
   "mimetype": "text/x-python",
   "name": "python",
   "nbconvert_exporter": "python",
   "pygments_lexer": "ipython3",
   "version": "3.6.8"
  }
 },
 "nbformat": 4,
 "nbformat_minor": 2
}

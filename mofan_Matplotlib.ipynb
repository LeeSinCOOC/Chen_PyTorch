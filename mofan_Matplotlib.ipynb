{
 "cells": [
  {
   "cell_type": "markdown",
   "metadata": {},
   "source": [
    "## matplotlib中cla() clf() close()用途"
   ]
  },
  {
   "cell_type": "raw",
   "metadata": {},
   "source": [
    "cla()   # Clear axis即清除当前图形中的当前活动轴。其他轴不受影响。\n",
    "clf()   # Clear figure清除所有轴，但是窗口打开，这样它可以被重复使用。\n",
    "close() # Close a figure window"
   ]
  },
  {
   "cell_type": "markdown",
   "metadata": {},
   "source": [
    "## matplotlib 画动态图以及plt.ion()和plt.ioff()的使用"
   ]
  },
  {
   "cell_type": "raw",
   "metadata": {},
   "source": [
    "import matplotlib.pyplot as plt\n",
    "\n",
    "plt.ion()    # 打开交互模式\n",
    "# 同时打开两个窗口显示图片\n",
    "plt.figure()  #图片一\n",
    "plt.imshow(i1)\n",
    "plt.figure()    #图片二\n",
    "plt.imshow(i2)\n",
    "\n",
    "# 显示前关掉交互模式\n",
    "plt.ioff()\n",
    "plt.show()"
   ]
  },
  {
   "cell_type": "markdown",
   "metadata": {},
   "source": [
    "## matplotlib 动画 绘图 延时与暂停"
   ]
  },
  {
   "cell_type": "raw",
   "metadata": {},
   "source": [
    "import numpy as np\n",
    "import matplotlib.pyplot as plt\n",
    " \n",
    "plt.axis([0, 10, 0, 1])\n",
    "plt.ion()\n",
    " \n",
    "for i in range(10):\n",
    "    y = np.random.random()\n",
    "    plt.scatter(i, y)\n",
    "    plt.pause(0.05)\n",
    " \n",
    "while True:\n",
    "    plt.pause(0.05)"
   ]
  }
 ],
 "metadata": {
  "kernelspec": {
   "display_name": "Python 3",
   "language": "python",
   "name": "python3"
  },
  "language_info": {
   "codemirror_mode": {
    "name": "ipython",
    "version": 3
   },
   "file_extension": ".py",
   "mimetype": "text/x-python",
   "name": "python",
   "nbconvert_exporter": "python",
   "pygments_lexer": "ipython3",
   "version": "3.6.8"
  }
 },
 "nbformat": 4,
 "nbformat_minor": 2
}
